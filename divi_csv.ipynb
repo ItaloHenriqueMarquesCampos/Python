{
 "cells": [
  {
   "cell_type": "code",
   "execution_count": null,
   "id": "85704eec",
   "metadata": {},
   "outputs": [],
   "source": [
    "\n",
    "\"\"\"\n",
    "pip install pandas\n",
    "pip install --upgrade pandas\n",
    "\"\"\""
   ]
  },
  {
   "cell_type": "code",
   "execution_count": 38,
   "id": "f9c6ad9f",
   "metadata": {},
   "outputs": [],
   "source": [
    "import pandas as pd\n",
    "# Essa linha importa a biblioteca pandas, uma das mais usadas para análise e manipulação de dados em Python.\n",
    "# O as pd é um apelido (alias), permitindo que você use pd para acessar funções da biblioteca (por exemplo, pd.read_csv()).\n",
    "\n",
    "import math \n",
    "# Essa linha importa a biblioteca padrão math, que fornece funções matemáticas.  \n",
    "#ela é usada para calcular o número de linhas por arquivo de forma precisa com math.ceil().\n",
    "\n",
    "import os\n",
    "# Essa linha importa o módulo os, que permite interagir com o sistema operacional.\n",
    "#Ele é usado para lidar com arquivos, diretórios, caminhos e verificar se pastas existem ou criá-las, por exemplo com os.makedirs() ou os.path.join()."
   ]
  },
  {
   "cell_type": "code",
   "execution_count": null,
   "id": "e52716da",
   "metadata": {},
   "outputs": [],
   "source": [
    "df = pd.read_csv(r\"C:\\Users\\Pichau\\Downloads\\Leads Comercial - Campanha Operação Onda Roxa - contatos_processados.csv\",delimiter=',')\n",
    "# Mudar o caminho de origem quando abrir em outro pc\n",
    "df.head()"
   ]
  },
  {
   "cell_type": "code",
   "execution_count": null,
   "id": "cc69ef4a",
   "metadata": {},
   "outputs": [],
   "source": [
    "# Pasta onde os arquivos divididos serão salvos\n",
    "# mudar também quando trocar de pc\n",
    "pasta_destino = r\"C:\\Users\\Pichau\\Downloads\\Salvos\"\n",
    "os.makedirs(pasta_destino, exist_ok=True)"
   ]
  },
  {
   "cell_type": "code",
   "execution_count": null,
   "id": "cf46e202",
   "metadata": {},
   "outputs": [],
   "source": [
    "# Número de arquivos desejados\n",
    "numero_de_arquivos = 432"
   ]
  },
  {
   "cell_type": "code",
   "execution_count": null,
   "id": "cd55cb67",
   "metadata": {},
   "outputs": [],
   "source": [
    "# Lê o arquivo CSV original\n",
    "df = pd.read_csv(r\"C:\\Users\\Pichau\\Downloads\\Leads Comercial - Campanha Operação Onda Roxa - contatos_processados.csv\",delimiter=',')"
   ]
  },
  {
   "cell_type": "code",
   "execution_count": null,
   "id": "20935a00",
   "metadata": {},
   "outputs": [],
   "source": [
    "# Calcula quantas linhas cada arquivo deve ter\n",
    "linhas_por_arquivo = math.ceil(len(df) / numero_de_arquivos)"
   ]
  },
  {
   "cell_type": "code",
   "execution_count": null,
   "id": "e67ee89e",
   "metadata": {},
   "outputs": [],
   "source": [
    "# Divide e salva os arquivos\n",
    "for i in range(numero_de_arquivos):\n",
    "    inicio = i * linhas_por_arquivo\n",
    "    fim = inicio + linhas_por_arquivo\n",
    "    df_parte = df.iloc[inicio:fim]\n",
    "    nome_arquivo = os.path.join(pasta_destino, f'leads_parte_{i+1:03}.csv')\n",
    "    df_parte.to_csv(nome_arquivo, index=False)\n",
    "    print(f'Arquivo {nome_arquivo} salvo com {len(df_parte)} linhas.')"
   ]
  },
  {
   "cell_type": "code",
   "execution_count": null,
   "id": "051b7903",
   "metadata": {},
   "outputs": [],
   "source": [
    "print(\"Concluído com sucesso\")"
   ]
  }
 ],
 "metadata": {
  "kernelspec": {
   "display_name": "base",
   "language": "python",
   "name": "python3"
  },
  "language_info": {
   "codemirror_mode": {
    "name": "ipython",
    "version": 3
   },
   "file_extension": ".py",
   "mimetype": "text/x-python",
   "name": "python",
   "nbconvert_exporter": "python",
   "pygments_lexer": "ipython3",
   "version": "3.10.9"
  }
 },
 "nbformat": 4,
 "nbformat_minor": 5
}


"""
pip install pandas
pip install --upgrade pandas
"""

import pandas as pd
# Essa linha importa a biblioteca pandas, uma das mais usadas para análise e manipulação de dados em Python.
# O as pd é um apelido (alias), permitindo que você use pd para acessar funções da biblioteca (por exemplo, pd.read_csv()).

import math 
# Essa linha importa a biblioteca padrão math, que fornece funções matemáticas.  
#ela é usada para calcular o número de linhas por arquivo de forma precisa com math.ceil().

import os
# Essa linha importa o módulo os, que permite interagir com o sistema operacional.
#Ele é usado para lidar com arquivos, diretórios, caminhos e verificar se pastas existem ou criá-las, por exemplo com os.makedirs() ou os.path.join().

df = pd.read_csv(r"C:\Users\italo.marques\Desktop\Py\Files\1.csv",delimiter=',')
# Mudar o caminho de origem quando abrir em outro pc
df.head()

# Pasta onde os arquivos divididos serão salvos
# mudar também quando trocar de pc
pasta_destino = r"C:\Users\italo.marques\Desktop\Py\Files"
os.makedirs(pasta_destino, exist_ok=True)

# Número de arquivos desejados
numero_de_arquivos = 10

# Lê o arquivo CSV original
df = pd.read_csv(r"C:\Users\italo.marques\Desktop\Py\Files\1.csv",delimiter=',')

# Calcula quantas linhas cada arquivo deve ter
linhas_por_arquivo = math.ceil(len(df) / numero_de_arquivos)


# Divide e salva os arquivos
for i in range(numero_de_arquivos):
    inicio = i * linhas_por_arquivo
    fim = inicio + linhas_por_arquivo
    df_parte = df.iloc[inicio:fim]
    nome_arquivo = os.path.join(pasta_destino, f'leads_parte_{i+1:03}.csv')
    df_parte.to_csv(nome_arquivo, index=False)
    print(f'Arquivo {nome_arquivo} salvo com {len(df_parte)} linhas.')


    print("Concluído com sucesso")
